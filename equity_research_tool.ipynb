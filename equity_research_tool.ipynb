{
 "cells": [
  {
   "cell_type": "code",
   "execution_count": null,
   "id": "14f0140c",
   "metadata": {},
   "outputs": [],
   "source": [
    "%pip install langchain"
   ]
  },
  {
   "cell_type": "code",
   "execution_count": 10,
   "id": "cda94d3f",
   "metadata": {},
   "outputs": [],
   "source": [
    "## Document Loaders"
   ]
  },
  {
   "cell_type": "code",
   "execution_count": null,
   "id": "307e178e",
   "metadata": {},
   "outputs": [],
   "source": [
    "%pip install langchain-community pypdf"
   ]
  },
  {
   "cell_type": "code",
   "execution_count": 7,
   "id": "dfb160ca",
   "metadata": {},
   "outputs": [],
   "source": [
    "from langchain.document_loaders import TextLoader"
   ]
  },
  {
   "cell_type": "code",
   "execution_count": 8,
   "id": "4f0d0573",
   "metadata": {},
   "outputs": [
    {
     "data": {
      "text/plain": [
       "\"The stock of NVIDIA Corp (NASDAQ:NVDA) experienced a daily loss of -3.56% and a 3-month gain of 32.35%. With an Earnings Per Share (EPS) (EPS) of $1.92, the question arises: is the stock significantly overvalued? This article aims to provide a detailed valuation analysis of NVIDIA, offering insights into its financial strength, profitability, growth, and more. We invite you to delve into this comprehensive analysis.\\n\\nCompany Overview\\nWarning! GuruFocus has detected 10 Warning Signs with NVDA. Click here to check it out.\\n\\nNVDA 30-Year Financial Data\\n\\nThe intrinsic value of NVDA\\n\\n\\nNVIDIA Corp (NASDAQ:NVDA) is a leading designer of discrete graphics processing units that enhance the experience on computing platforms. The firm's chips are widely used in various end markets, including PC gaming and data centers. In recent years, NVIDIA has broadened its focus from traditional PC graphics applications such as gaming to more complex and favorable opportunities, including artificial intelligence and autonomous driving, leveraging the high-performance capabilities of its products.\\n\\nCurrently, NVIDIA's stock price stands at $418.01, significantly higher than the GF Value of $310.28, indicating the stock might be overvalued. With a market cap of $1 trillion, the valuation seems steep. The following analysis aims to delve deeper into the company's value.\\n\\nIs NVIDIA's Stock Significantly Overvalued? A Comprehensive Valuation Analysis\\nIs NVIDIA's Stock Significantly Overvalued? A Comprehensive Valuation Analysis\\nUnderstanding the GF Value\\nThe GF Value is a unique measure of the intrinsic value of a stock, calculated based on historical trading multiples, a GuruFocus adjustment factor, and future business performance estimates. If the stock price is significantly above the GF Value Line, it is overvalued, and its future return is likely to be poor. Conversely, if it is significantly below the GF Value Line, its future return will likely be higher.\\n\\nAccording to GuruFocus Value calculation, NVIDIA (NASDAQ:NVDA) appears to be significantly overvalued. The stock's current price of $418.01 per share and the market cap of $1 trillion further strengthen this assumption.\\n\\nGiven that NVIDIA is significantly overvalued, the long-term return of its stock is likely to be much lower than its future business growth.\\n\\nIs NVIDIA's Stock Significantly Overvalued? A Comprehensive Valuation Analysis\\nIs NVIDIA's Stock Significantly Overvalued? A Comprehensive Valuation Analysis\\nLink: These companies may deliver higher future returns at reduced risk.\\n\\nFinancial Strength of NVIDIA\\nExamining the financial strength of a company is crucial before investing in its stock. Companies with poor financial strength pose a higher risk of permanent loss. NVIDIA's cash-to-debt ratio of 1.27 is worse than 58.04% of companies in the Semiconductors industry. However, NVIDIA's overall financial strength is 8 out of 10, indicating a strong financial position.\\n\\nIs NVIDIA's Stock Significantly Overvalued? A Comprehensive Valuation Analysis\\nIs NVIDIA's Stock Significantly Overvalued? A Comprehensive Valuation Analysis\\nProfitability and Growth\\nConsistent profitability over the long term reduces the risk for investors. NVIDIA, with its profitability ranking of 10 out of 10, has been profitable for the past 10 years. The company's operating margin of 17.37% ranks better than 76.5% of companies in the Semiconductors industry.\\n\\nHowever, growth is a crucial factor in a company's valuation. NVIDIA's growth ranks worse than 52.99% of companies in the Semiconductors industry, with its 3-year average revenue growth rate better than 87.88% of companies in the industry.\\n\\nROIC vs WACC\\nComparing a company's return on invested capital (ROIC) to its weighted average cost of capital (WACC) is an effective way to evaluate its profitability. Over the past 12 months, NVIDIA's ROIC was 20.32 while its WACC was 16.74, suggesting that the company is creating value for its shareholders.\\n\\nIs NVIDIA's Stock Significantly Overvalued? A Comprehensive Valuation Analysis\\nIs NVIDIA's Stock Significantly Overvalued? A Comprehensive Valuation Analysis\\nConclusion\\nIn conclusion, NVIDIA (NASDAQ:NVDA) appears to be significantly overvalued. Despite its strong financial condition and profitability, its growth ranks lower than 52.99% of companies in the Semiconductors industry. To learn more about NVIDIA stock, you can check out its 30-Year Financials here.\\n\\nTo find out the high quality companies that may deliver above-average returns, please check out GuruFocus High Quality Low Capex Screener.\\n\\nThis article first appeared on GuruFocus.\""
      ]
     },
     "execution_count": 8,
     "metadata": {},
     "output_type": "execute_result"
    }
   ],
   "source": [
    "loader = TextLoader(\"dataset/nvda_news_1.txt\")\n",
    "data = loader.load()\n",
    "data[0].page_content"
   ]
  },
  {
   "cell_type": "code",
   "execution_count": 12,
   "id": "c6168419",
   "metadata": {},
   "outputs": [
    {
     "data": {
      "text/plain": [
       "'SIVABALAN TAMILARASAN\\n+91 6383577376 | sivabalan10122003@gmail.com | LinkedIn  |  GitHub | \\nAI & ML Developer with practical experience in backend systems through real-time projects in an\\nindustrial setting. Familiar with implementing AI models and backend solutions. Enthusiastic learner\\nwith participation in hackathons, eager to grow skills and contribute effectively in professional\\nenvironments.\\nSUMMARY\\nEDUCATION\\nGraduation - 2026Bachelor of Technology\\nMajor in Artificial Intelligence and Machine Learning\\nCGPA - 8.23 (Up to 6th Semester)\\n 2020 - 2022Pari Vallal Matriculation School\\nHSC - 94.50%  |  SSLC - 76.66%\\nMar 2025 - May 2025Brakes India Internship - (AI and Backend)\\nDeveloped end to end YOLO11-based Driver Drowsiness Detection with CAN speed tracking\\nat Brakes India ER&D.\\nEXPERIENCES\\nCryptoShield Hackathon - Led winning team developing AI-based oil spill detection system.\\nSmart India Hackathon – Ranked Top 25 of 800 ideas, advancing to national stage.\\nIEEE Breadths Ideathon – Achieved 2nd place for innovative solution design in team event.\\nEnthirathon – Secured 2nd place among 500+ entries with Animal detection system.\\nACHIEVEMENTS\\nPROJECTS\\nTECHNICAL SKILLS\\nMachine Learning\\nData Analysis\\nDeep Learning\\nFlask & REST APIs\\nGenerative AI\\nSQL & NoSQL\\nPython\\nGit & Version Control\\nNov 2024 - Jun 2025IEEE CIS SOCIETY - Technical Associate (Web Dev)\\nBuilt IEEE Computational Society website with React, GitHub, and Vercel, enabling real-time\\nupdates, custom domain, and improved member engagement.\\nFeb 2024 - Apr 2024Apollo Tyres Consultancy Project - (AI and App Dev)\\nDeveloped OpenCV–PLC Tire Jam Prevention System with Tkinter GUI & Flask-SQLite\\nbackend, cutting downtime at Apollo Tyres.\\nMay 2023 - CurrentMatrix Food Order - (Founder & Developer)\\nCreated the Matrix Food Order Website, a streamlined food ordering system tailored for\\ncollege hostel, enhancing menu selection processing efficiency and easy ordering process.\\nSmart Retailer Application \\nBuilt AI retail app with Flask, PostgreSQL, LSTM & LLM chatbot to boost inventory and sales.\\nRecipe Data API\\nDeveloped RESTful API with Python, Flask & SQLAlchemy to serve recipe data with\\npagination, sorting, and advanced filtering.\\nPrinted Circuit Board defect Detection\\nBuilt YOLOv8 & MobileNet system to detect and sort defective single/multi-layer PCBs.\\nMar 2025\\nJan 2025\\nAug 2024'"
      ]
     },
     "execution_count": 12,
     "metadata": {},
     "output_type": "execute_result"
    }
   ],
   "source": [
    "from langchain_community.document_loaders import PyPDFLoader\n",
    "\n",
    "file_path = \"dataset/sivabalan_resume.pdf\"\n",
    "loader = PyPDFLoader(file_path)\n",
    "\n",
    "docs = loader.load()\n",
    "\n",
    "docs[0].page_content"
   ]
  },
  {
   "cell_type": "code",
   "execution_count": null,
   "id": "428b2563",
   "metadata": {},
   "outputs": [],
   "source": [
    "##  "
   ]
  }
 ],
 "metadata": {
  "kernelspec": {
   "display_name": "Python 3 (ipykernel)",
   "language": "python",
   "name": "python3"
  },
  "language_info": {
   "codemirror_mode": {
    "name": "ipython",
    "version": 3
   },
   "file_extension": ".py",
   "mimetype": "text/x-python",
   "name": "python",
   "nbconvert_exporter": "python",
   "pygments_lexer": "ipython3",
   "version": "3.11.5"
  }
 },
 "nbformat": 4,
 "nbformat_minor": 5
}
